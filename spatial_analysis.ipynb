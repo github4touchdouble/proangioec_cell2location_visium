{
 "cells": [
  {
   "cell_type": "code",
   "execution_count": null,
   "metadata": {},
   "outputs": [],
   "source": [
    "import anndata as ad\n",
    "import scanpy as sc\n",
    "#import squidpy as sq\n",
    "import pandas as pd\n",
    "import matplotlib.pyplot as plt\n",
    "import matplotlib as mpl\n",
    "import seaborn as sns\n",
    "import cell2location as c2l\n",
    "import numpy as np\n",
    "import os\n",
    "import warnings\n",
    "warnings.filterwarnings('ignore', category=UserWarning)\n",
    "from dotenv import load_dotenv\n",
    "load_dotenv()"
   ]
  },
  {
   "cell_type": "code",
   "execution_count": null,
   "metadata": {},
   "outputs": [],
   "source": [
    "adata_scatlas = ad.read_h5ad(os.environ.get('PATH_TO_SCATLAS'))\n",
    "adata_visium = ad.read_h5ad(os.environ.get('PATH_TO_VISIUM'))"
   ]
  },
  {
   "cell_type": "markdown",
   "metadata": {},
   "source": [
    "# 1. Data Overview"
   ]
  },
  {
   "cell_type": "code",
   "execution_count": null,
   "metadata": {},
   "outputs": [],
   "source": [
    "print(\"Number of cells before filtering:\", adata_scatlas.n_obs)"
   ]
  },
  {
   "cell_type": "markdown",
   "metadata": {},
   "source": [
    "Remove zero count genes (Korbinian approved)"
   ]
  },
  {
   "cell_type": "code",
   "execution_count": null,
   "metadata": {},
   "outputs": [],
   "source": [
    "adata_scatlas.var_names = adata_scatlas.var[\"original_gene_names\"]\n",
    "sc.pp.filter_cells(adata_scatlas, min_counts=1)\n",
    "sc.pl.highest_expr_genes(adata_scatlas, n_top=20)"
   ]
  },
  {
   "cell_type": "code",
   "execution_count": null,
   "metadata": {},
   "outputs": [],
   "source": [
    "print(\"Number of cells after filtering out zero counts:\", adata_scatlas.n_obs)"
   ]
  },
  {
   "cell_type": "code",
   "execution_count": null,
   "metadata": {},
   "outputs": [],
   "source": [
    "adata_scatlas.obs[\"total_counts\"] = adata_scatlas.X.sum(axis=1)\n",
    "sns.histplot(adata_scatlas.obs['total_counts'])\n",
    "plt.xlabel('Total Counts')\n",
    "plt.ylabel('Cell Count')\n",
    "plt.title('Distribution of Total Counts')"
   ]
  },
  {
   "cell_type": "markdown",
   "metadata": {},
   "source": [
    "Ensure the original data was nomalized by reviewing the raw counts"
   ]
  },
  {
   "cell_type": "code",
   "execution_count": null,
   "metadata": {},
   "outputs": [],
   "source": [
    "adata_scatlas.obs[\"total_counts_raw\"] = adata_scatlas.raw.X.sum(axis=1)\n",
    "sns.histplot(adata_scatlas.obs['total_counts_raw'])\n",
    "plt.xlabel('Raw Total Counts')\n",
    "plt.ylabel('Cell Count')\n",
    "plt.title('Distribution of Raw Total Counts')"
   ]
  },
  {
   "cell_type": "code",
   "execution_count": null,
   "metadata": {},
   "outputs": [],
   "source": [
    "sc.pl.umap(adata_scatlas, color = [\"cell_type_level1\",\"cell_type_level2\"])"
   ]
  },
  {
   "cell_type": "markdown",
   "metadata": {},
   "source": [
    "# 2. Train Model Plaque Atlas Data"
   ]
  },
  {
   "cell_type": "code",
   "execution_count": null,
   "metadata": {},
   "outputs": [],
   "source": [
    "# Estimate some cut-off values for filtering\n",
    "total_genes = adata_scatlas.shape[1]\n",
    "print(f\"Total number of genes: {total_genes}\")\n",
    "\n",
    "# Get the number of cells where each gene has non-zero expression\n",
    "gene_cell_count = np.sum(adata_scatlas.X > 0, axis=0)\n",
    "\n",
    "# Count the number of genes with more than 5 cell counts\n",
    "genes_with_5_cells = np.sum(gene_cell_count > 5)\n",
    "print(f\"Number of genes with more than 5 cell counts: {genes_with_5_cells}\")\n",
    "print(f\"Number of cells: {adata_scatlas.shape[0]}\")"
   ]
  },
  {
   "cell_type": "code",
   "execution_count": null,
   "metadata": {},
   "outputs": [],
   "source": [
    "from cell2location.utils.filtering import filter_genes\n",
    "adata_ref = adata_scatlas.copy()\n",
    "adata_ref.X = adata_ref.raw.X\n",
    "selected = filter_genes(adata_ref, cell_count_cutoff=1, cell_percentage_cutoff2=0.03, nonz_mean_cutoff=1.12)\n",
    "adata_ref = adata_ref[:, selected].copy()"
   ]
  },
  {
   "cell_type": "markdown",
   "metadata": {},
   "source": [
    "# 3. Import Model"
   ]
  },
  {
   "cell_type": "code",
   "execution_count": null,
   "metadata": {},
   "outputs": [],
   "source": [
    "model_path = os.environ.get('PATH_TO_MODEL')\n",
    "model2wo = c2l.models.RegressionModel.load(model_path, adata_ref)\n",
    "adata_ref = model2wo.export_posterior(\n",
    "    adata_ref, use_quantiles=True,\n",
    "    add_to_varm=[\"q05\",\"q50\", \"q95\"],\n",
    "    sample_kwargs={'batch_size': 2500}\n",
    ")\n",
    "# For the QC plot afterwards\n",
    "adata_ref = model2wo.export_posterior(adata_ref, sample_kwargs={'num_samples': 1000, 'batch_size': 2500})"
   ]
  },
  {
   "cell_type": "code",
   "execution_count": null,
   "metadata": {},
   "outputs": [],
   "source": [
    "model2wo.plot_history(20)"
   ]
  },
  {
   "cell_type": "code",
   "execution_count": null,
   "metadata": {},
   "outputs": [],
   "source": [
    "model2wo.plot_QC()"
   ]
  },
  {
   "cell_type": "code",
   "execution_count": null,
   "metadata": {},
   "outputs": [],
   "source": [
    "# Extracting reference cell types signatures as a pd.DataFrame\n",
    "if 'means_per_cluster_mu_fg' in adata_ref.varm.keys():\n",
    "    inf_aver = adata_ref.varm['means_per_cluster_mu_fg'][[f'means_per_cluster_mu_fg_{i}'\n",
    "                                    for i in adata_ref.uns['mod']['factor_names']]].copy()\n",
    "else:\n",
    "    inf_aver = adata_ref.var[[f'means_per_cluster_mu_fg_{i}'\n",
    "                                    for i in adata_ref.uns['mod']['factor_names']]].copy()\n",
    "inf_aver.columns = adata_ref.uns['mod']['factor_names']\n",
    "inf_aver"
   ]
  },
  {
   "cell_type": "markdown",
   "metadata": {},
   "source": [
    "# 4. Cell type mapping"
   ]
  },
  {
   "cell_type": "code",
   "execution_count": null,
   "metadata": {},
   "outputs": [],
   "source": [
    "adata_visium.obs['sample']"
   ]
  },
  {
   "cell_type": "code",
   "execution_count": null,
   "metadata": {},
   "outputs": [],
   "source": [
    "def select_slide(adata, s, s_col='sample'):\n",
    "    r\"\"\" This function selects the data for one slide from the spatial anndata object.\n",
    "\n",
    "    :param adata: Anndata object with multiple spatial experiments\n",
    "    :param s: name of selected experiment\n",
    "    :param s_col: column in adata.obs listing experiment name for each location\n",
    "    \"\"\"\n",
    "\n",
    "    slide = adata[adata.obs[s_col].isin([s]), :]\n",
    "    s_keys = list(slide.uns['spatial'].keys())\n",
    "    s_spatial = np.array(s_keys)[[s in k for k in s_keys]][0]\n",
    "\n",
    "    slide.uns['spatial'] = {s_spatial: slide.uns['spatial'][s_spatial]}\n",
    "\n",
    "    return slide"
   ]
  },
  {
   "cell_type": "code",
   "execution_count": null,
   "metadata": {},
   "outputs": [],
   "source": [
    "Sample_to_Disease = dict(\n",
    "    FW104302=\"Fibroatheroma\",\n",
    "    FW104306=\"Fibroatheroma\",\n",
    "    FW104860=\"Atheroma\",\n",
    "    FW106005_v2=\"Atheroma\",\n",
    "    FW106006=\"Intermediate lesion\",\n",
    "    FW106008=\"Intermediate lesion\",\n",
    "    FW106010=\"Control\",\n",
    "    FW106012=\"Control\",\n",
    "    FW106014=\"Atheroma\",\n",
    "    FW106016=\"Atheroma\",\n",
    "    FW106018=\"Control\",\n",
    "    FW106022=\"Atheroma\")\n",
    "adata_visium.obs['Disease'] = (\n",
    "    adata_visium.obs['sample'].map(Sample_to_Disease)\n",
    ")\n",
    "# Sort samples by disease group\n",
    "sorted_samples = adata_visium.obs.sort_values(by='Disease')['sample'].unique()\n",
    "\n",
    "# PLOT QC FOR EACH SAMPLE\n",
    "\n",
    "fig, axs = plt.subplots(len(sorted_samples), 2, figsize=(7, len(sorted_samples)*3))\n",
    "\n",
    "# Define color palette for disease categories\n",
    "disease_palette = {'Control': '#52006A', 'Intermediate lesion': '#FF7600', \n",
    "                   'Atheroma': '#CD113B', 'Fibroatheroma': '#808080'}\n",
    "\n",
    "for i, s in enumerate(sorted_samples):\n",
    "    slide = select_slide(adata_visium, s)\n",
    "    sample_value = adata_visium.obs.loc[adata_visium.obs['sample'] == s, 'sample'].unique()[0]\n",
    "    disease_value = adata_visium.obs.loc[adata_visium.obs['sample'] == s, 'Disease'].unique()[0]\n",
    "    header = f'{sample_value} | {disease_value}'\n",
    "\n",
    "    # Get color for the disease category\n",
    "    disease_color = disease_palette.get(disease_value, 'gray')\n",
    "\n",
    "    # Plot the distribution of total_counts\n",
    "    sns.histplot(slide.obs['total_counts'], kde=False, ax=axs[i, 0], color=disease_color, bins=30)\n",
    "    axs[i, 0].set_xlim(0, adata_visium.obs['total_counts'].max())\n",
    "    axs[i, 0].set_xlabel('total_counts')\n",
    "    axs[i, 0].set_title(header)\n",
    "\n",
    "    # Plot the distribution of n_genes_by_counts\n",
    "    sns.histplot(slide.obs['n_genes_by_counts'], kde=False, ax=axs[i, 1], color=disease_color, bins=60)\n",
    "    axs[i, 1].set_xlim(0, adata_visium.obs['n_genes_by_counts'].max())\n",
    "    axs[i, 1].set_xlabel('n_genes_by_counts')\n",
    "    axs[i, 1].set_title(header)\n",
    "\n",
    "plt.tight_layout()\n",
    "plt.show()"
   ]
  },
  {
   "cell_type": "code",
   "execution_count": null,
   "metadata": {},
   "outputs": [],
   "source": [
    "sc.pl.umap(adata_visium, color=['sample'], size=30, color_map = 'RdPu', ncols = 1, legend_fontsize=10)"
   ]
  },
  {
   "cell_type": "code",
   "execution_count": null,
   "metadata": {},
   "outputs": [],
   "source": [
    "# Plot UMAP with log-transformed data\n",
    "\n",
    "# Log-transform (log(data + 1))\n",
    "adata_vis_plt = adata_visium.copy()\n",
    "sc.pp.log1p(adata_vis_plt)\n",
    "\n",
    "# Find highly variable genes within each sample\n",
    "adata_vis_plt.var['highly_variable'] = False\n",
    "for s in adata_vis_plt.obs['sample'].unique():\n",
    "    adata_vis_plt_1 = adata_vis_plt[adata_vis_plt.obs['sample'] == s, :]\n",
    "    sc.pp.highly_variable_genes(adata_vis_plt_1, n_top_genes=3000)  \n",
    "    hvg_list = list(adata_vis_plt_1.var_names[adata_vis_plt_1.var['highly_variable']])\n",
    "    adata_vis_plt.var.loc[hvg_list, 'highly_variable'] = True\n",
    "\n",
    "# Scale the data\n",
    "sc.pp.scale(adata_vis_plt, max_value=10)\n",
    "\n",
    "# PCA, KNN construction, UMAP\n",
    "sc.tl.pca(adata_vis_plt, svd_solver='arpack', n_comps=40, mask_var='highly_variable')  \n",
    "sc.pp.neighbors(adata_vis_plt, n_neighbors=25, n_pcs=40, metric='cosine')\n",
    "sc.tl.umap(adata_vis_plt, min_dist=0.3, spread=1)\n",
    "\n",
    "# Plot UMAP\n",
    "sc.pl.umap(adata_vis_plt, color=['sample'], size=30, color_map='RdPu', ncols=1, legend_fontsize=10)"
   ]
  },
  {
   "cell_type": "code",
   "execution_count": null,
   "metadata": {},
   "outputs": [],
   "source": [
    "adata_visium.var"
   ]
  },
  {
   "cell_type": "code",
   "execution_count": null,
   "metadata": {},
   "outputs": [],
   "source": [
    "# find shared genes and subset both anndata and reference signatures\n",
    "intersect = np.intersect1d(adata_visium.var_names, inf_aver.index)\n",
    "adata_visium = adata_visium[:, intersect].copy()\n",
    "inf_aver = inf_aver.loc[intersect, :].copy()\n",
    "\n",
    "inf_aver"
   ]
  },
  {
   "cell_type": "code",
   "execution_count": null,
   "metadata": {},
   "outputs": [],
   "source": [
    "# Since we are interested in Pro-Angiogenic EC\n",
    "inf_aver.sort_values('Pro-Angiogenic EC', ascending=False).head(20)"
   ]
  },
  {
   "cell_type": "code",
   "execution_count": null,
   "metadata": {},
   "outputs": [],
   "source": [
    "# Plot correlation of different cell types, using spearman rank method\n",
    "corr = inf_aver.corr(method=\"spearman\")\n",
    "\n",
    "# Generate a mask for the upper triangle\n",
    "mask = np.triu(np.ones_like(corr, dtype=bool))\n",
    "\n",
    "f, ax = plt.subplots(figsize=(11, 9))\n",
    "cmap = sns.diverging_palette(230, 20, as_cmap=True)\n",
    "sns.heatmap(corr, mask=mask, cmap=cmap, center=0.5,\n",
    "            square=True, linewidths=.5, cbar_kws={\"shrink\": .5})"
   ]
  },
  {
   "cell_type": "code",
   "execution_count": null,
   "metadata": {},
   "outputs": [],
   "source": [
    "# prepare anndata for cell2location model\n",
    "c2l.models.Cell2location.setup_anndata(adata=adata_visium, batch_key=\"sample\")\n",
    "\n",
    "map_model2wo = c2l.models.Cell2location(\n",
    "    adata_visium, cell_state_df=inf_aver,\n",
    "    # the expected average cell abundance: tissue-dependent hyper-prior which can be estimated from paired histology:\n",
    "    N_cells_per_location=5,\n",
    "    # hyperparameter controlling normalisation of within-experiment variation in RNA detection:\n",
    "    detection_alpha=200\n",
    ")\n",
    "map_model2wo.view_anndata_setup()"
   ]
  }
 ],
 "metadata": {
  "kernelspec": {
   "display_name": "venv",
   "language": "python",
   "name": "python3"
  },
  "language_info": {
   "codemirror_mode": {
    "name": "ipython",
    "version": 3
   },
   "file_extension": ".py",
   "mimetype": "text/x-python",
   "name": "python",
   "nbconvert_exporter": "python",
   "pygments_lexer": "ipython3",
   "version": "3.12.0"
  }
 },
 "nbformat": 4,
 "nbformat_minor": 2
}
